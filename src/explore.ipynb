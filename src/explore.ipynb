{
    "cells": [
        {
            "cell_type": "markdown",
            "metadata": {},
            "source": [
                "# Explore here"
            ]
        },
        {
            "cell_type": "markdown",
            "metadata": {},
            "source": [
                "# BLOQUE 1: Carga de librerías, logging y credenciales"
            ]
        },
        {
            "cell_type": "code",
            "execution_count": 104,
            "metadata": {},
            "outputs": [],
            "source": [
                "import os\n",
                "import logging\n",
                "from dotenv import load_dotenv\n",
                "import spotipy\n",
                "from spotipy.oauth2 import SpotifyClientCredentials\n",
                "from spotipy.exceptions import SpotifyException\n",
                "import pandas as pd\n",
                "import matplotlib.pyplot as plt\n",
                "import seaborn as sns"
            ]
        },
        {
            "cell_type": "code",
            "execution_count": 105,
            "metadata": {},
            "outputs": [],
            "source": [
                "# 01. Configurar logging\n",
                "logging.basicConfig(\n",
                "    level=logging.INFO,\n",
                "    format=\"%(asctime)s | %(levelname)s | %(message)s\"\n",
                ")"
            ]
        },
        {
            "cell_type": "code",
            "execution_count": null,
            "metadata": {},
            "outputs": [
                {
                    "name": "stderr",
                    "output_type": "stream",
                    "text": [
                        "2025-07-19 14:42:14,966 | INFO | Credenciales cargadas correctamente.\n"
                    ]
                }
            ],
            "source": [
                "# 03. Cargar variables de entorno desde\n",
                "load_dotenv()\n",
                "client_id = os.getenv(\"CLIENT_ID\")\n",
                "client_secret = os.getenv(\"CLIENT_SECRET\")\n",
                "\n",
                "if not client_id or not client_secret:\n",
                "    raise ValueError(\"CLIENT_ID o CLIENT_SECRET no definidos en .env\")\n",
                "\n",
                "logging.info(\"Credenciales cargadas correctamente.\")"
            ]
        },
        {
            "cell_type": "markdown",
            "metadata": {},
            "source": [
                "# BLOQUE 2: Instanciación segura del cliente de Spotify"
            ]
        },
        {
            "cell_type": "code",
            "execution_count": 115,
            "metadata": {},
            "outputs": [
                {
                    "name": "stderr",
                    "output_type": "stream",
                    "text": [
                        "2025-07-19 14:46:56,726 | INFO | Cliente Spotipy listo.\n"
                    ]
                }
            ],
            "source": [
                "# 04. Crear el gestor de credenciales y el cliente Spotipy\n",
                "auth = SpotifyClientCredentials(client_id=client_id, client_secret=client_secret)\n",
                "spotify = spotipy.Spotify(auth_manager=auth)\n",
                "logging.info(\"Cliente Spotipy listo.\")"
            ]
        },
        {
            "cell_type": "markdown",
            "metadata": {},
            "source": [
                "# BLOQUE 3: Obtener Top 10 canciones de un artista"
            ]
        },
        {
            "cell_type": "code",
            "execution_count": 116,
            "metadata": {},
            "outputs": [],
            "source": [
                "# 05. URI o ID del artista\n",
                "ARTIST_URI = \"spotify:artist:36QJpDe2go2KgaRleHCDTp\""
            ]
        },
        {
            "cell_type": "code",
            "execution_count": 117,
            "metadata": {},
            "outputs": [
                {
                    "name": "stderr",
                    "output_type": "stream",
                    "text": [
                        "2025-07-19 14:47:35,103 | INFO | Se descargaron 10 tracks.\n"
                    ]
                }
            ],
            "source": [
                "# 06. Solicitud a la API (name, popularity, duration)\n",
                "tracks_json = spotify.artist_top_tracks(ARTIST_URI, country=\"US\")[\"tracks\"][:10]\n",
                "track_data = [\n",
                "    {\n",
                "        \"name\":         t[\"name\"],\n",
                "        \"popularity\":   t[\"popularity\"],\n",
                "        \"duration_min\": t[\"duration_ms\"] / 60000\n",
                "    }\n",
                "    for t in tracks_json\n",
                "]\n",
                "logging.info(f\"Se descargaron {len(track_data)} tracks.\")"
            ]
        },
        {
            "cell_type": "markdown",
            "metadata": {},
            "source": [
                "# BLOQUE 4: DataFrame y Top 5 más populares"
            ]
        },
        {
            "cell_type": "code",
            "execution_count": 118,
            "metadata": {},
            "outputs": [],
            "source": [
                "# 07. Convertir a DataFrame\n",
                "df_tracks = pd.DataFrame(track_data)"
            ]
        },
        {
            "cell_type": "code",
            "execution_count": 121,
            "metadata": {},
            "outputs": [
                {
                    "name": "stdout",
                    "output_type": "stream",
                    "text": [
                        "Top 5 canciones más populares\n"
                    ]
                },
                {
                    "data": {
                        "text/html": [
                            "<div>\n",
                            "<style scoped>\n",
                            "    .dataframe tbody tr th:only-of-type {\n",
                            "        vertical-align: middle;\n",
                            "    }\n",
                            "\n",
                            "    .dataframe tbody tr th {\n",
                            "        vertical-align: top;\n",
                            "    }\n",
                            "\n",
                            "    .dataframe thead th {\n",
                            "        text-align: right;\n",
                            "    }\n",
                            "</style>\n",
                            "<table border=\"1\" class=\"dataframe\">\n",
                            "  <thead>\n",
                            "    <tr style=\"text-align: right;\">\n",
                            "      <th></th>\n",
                            "      <th>name</th>\n",
                            "      <th>popularity</th>\n",
                            "      <th>duration_min</th>\n",
                            "    </tr>\n",
                            "  </thead>\n",
                            "  <tbody>\n",
                            "    <tr>\n",
                            "      <th>0</th>\n",
                            "      <td>Stairway to Heaven - Remaster</td>\n",
                            "      <td>83</td>\n",
                            "      <td>8.047167</td>\n",
                            "    </tr>\n",
                            "    <tr>\n",
                            "      <th>1</th>\n",
                            "      <td>Immigrant Song - Remaster</td>\n",
                            "      <td>81</td>\n",
                            "      <td>2.437500</td>\n",
                            "    </tr>\n",
                            "    <tr>\n",
                            "      <th>2</th>\n",
                            "      <td>Whole Lotta Love - 1990 Remaster</td>\n",
                            "      <td>79</td>\n",
                            "      <td>5.564883</td>\n",
                            "    </tr>\n",
                            "    <tr>\n",
                            "      <th>3</th>\n",
                            "      <td>Black Dog - Remaster</td>\n",
                            "      <td>76</td>\n",
                            "      <td>4.923100</td>\n",
                            "    </tr>\n",
                            "    <tr>\n",
                            "      <th>4</th>\n",
                            "      <td>Ramble On - 1990 Remaster</td>\n",
                            "      <td>75</td>\n",
                            "      <td>4.388883</td>\n",
                            "    </tr>\n",
                            "  </tbody>\n",
                            "</table>\n",
                            "</div>"
                        ],
                        "text/plain": [
                            "                               name  popularity  duration_min\n",
                            "0     Stairway to Heaven - Remaster          83      8.047167\n",
                            "1         Immigrant Song - Remaster          81      2.437500\n",
                            "2  Whole Lotta Love - 1990 Remaster          79      5.564883\n",
                            "3              Black Dog - Remaster          76      4.923100\n",
                            "4         Ramble On - 1990 Remaster          75      4.388883"
                        ]
                    },
                    "metadata": {},
                    "output_type": "display_data"
                }
            ],
            "source": [
                "# 08. Ordenar por popularidad descendente\n",
                "df_sorted = df_tracks.sort_values(\"popularity\", ascending=False)\n",
                "top5_most_popular = df_sorted.head(5)\n",
                "\n",
                "print(\"Top 5 canciones más populares\")\n",
                "display(top5_most_popular)"
            ]
        },
        {
            "cell_type": "markdown",
            "metadata": {},
            "source": [
                "# BLOQUE 5: Relación duración vs popularidad"
            ]
        },
        {
            "cell_type": "code",
            "execution_count": 123,
            "metadata": {},
            "outputs": [
                {
                    "data": {
                        "image/png": "[encoded data removed]",
                        "text/plain": [
                            "<Figure size 600x400 with 1 Axes>"
                        ]
                    },
                    "metadata": {},
                    "output_type": "display_data"
                }
            ],
            "source": [
                "# 09. Scatter plot duración vs popularidad\n",
                "sns.set(style=\"whitegrid\")\n",
                "plt.figure(figsize=(6, 4))\n",
                "sns.scatterplot(data=df_tracks, x=\"duration_min\", y=\"popularity\", s=90)\n",
                "plt.xlabel(\"Duración (min)\")\n",
                "plt.ylabel(\"Popularidad (0‑100)\")\n",
                "plt.title(\"¿Relación entre duración y popularidad?\")\n",
                "plt.tight_layout()\n",
                "plt.show()"
            ]
        }
    ],
    "metadata": {
        "kernelspec": {
            "display_name": "Python 3",
            "language": "python",
            "name": "python3"
        },
        "language_info": {
            "codemirror_mode": {
                "name": "ipython",
                "version": 3
            },
            "file_extension": ".py",
            "mimetype": "text/x-python",
            "name": "python",
            "nbconvert_exporter": "python",
            "pygments_lexer": "ipython3",
            "version": "3.11.4"
        },
        "orig_nbformat": 4
    },
    "nbformat": 4,
    "nbformat_minor": 2
}
